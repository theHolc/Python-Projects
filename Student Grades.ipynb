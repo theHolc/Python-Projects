{
 "cells": [
  {
   "cell_type": "code",
   "execution_count": 14,
   "metadata": {},
   "outputs": [],
   "source": [
    "import pandas as pd\n",
    "import numpy as np\n",
    "import sklearn\n",
    "from sklearn import linear_model\n",
    "from sklearn.utils import shuffle\n",
    "import matplotlib.pyplot as plt\n",
    "from matplotlib import style\n",
    "import pickle"
   ]
  },
  {
   "cell_type": "code",
   "execution_count": 3,
   "metadata": {},
   "outputs": [
    {
     "name": "stdout",
     "output_type": "stream",
     "text": [
      "  school sex  age address famsize Pstatus  Medu  Fedu     Mjob      Fjob ...  \\\n",
      "0     GP   F   18       U     GT3       A     4     4  at_home   teacher ...   \n",
      "1     GP   F   17       U     GT3       T     1     1  at_home     other ...   \n",
      "2     GP   F   15       U     LE3       T     1     1  at_home     other ...   \n",
      "3     GP   F   15       U     GT3       T     4     2   health  services ...   \n",
      "4     GP   F   16       U     GT3       T     3     3    other     other ...   \n",
      "\n",
      "  famrel freetime  goout  Dalc  Walc health absences  G1  G2  G3  \n",
      "0      4        3      4     1     1      3        6   5   6   6  \n",
      "1      5        3      3     1     1      3        4   5   5   6  \n",
      "2      4        3      2     2     3      3       10   7   8  10  \n",
      "3      3        2      2     1     1      5        2  15  14  15  \n",
      "4      4        3      2     1     2      5        4   6  10  10  \n",
      "\n",
      "[5 rows x 33 columns]\n"
     ]
    }
   ],
   "source": [
    "data = pd.read_csv(\"student-mat.csv\", sep=\";\")\n",
    "print(data.head())"
   ]
  },
  {
   "cell_type": "code",
   "execution_count": 26,
   "metadata": {},
   "outputs": [
    {
     "name": "stdout",
     "output_type": "stream",
     "text": [
      "     G1  G2  G3  studytime  failures  absences\n",
      "82    7   6   6          2         0        10\n",
      "29   10  12  11          2         0        16\n",
      "22   15  15  16          2         0         2\n",
      "128   7   4   0          1         2         0\n",
      "107  16  18  18          3         0         2\n"
     ]
    }
   ],
   "source": [
    "# G1, G2 are first and second period grades. G3 is final year grades\n",
    "# we will try to predict G3 using important atrributes\n",
    "# our attributes will be G1, G2, studytime, failures, absencses\n",
    "\n",
    "data = data[[\"G1\", \"G2\", \"G3\", \"studytime\", \"failures\", \"absences\"]]\n",
    "data = shuffle(data)\n",
    "print(data.head())"
   ]
  },
  {
   "cell_type": "code",
   "execution_count": 27,
   "metadata": {},
   "outputs": [],
   "source": [
    "predict = \"G3\"\n",
    "\n",
    "# Features: all but G3\n",
    "X = np.array(data.drop([predict], 1)) \n",
    "\n",
    "# Labels: G3\n",
    "y = np.array(data[predict])"
   ]
  },
  {
   "cell_type": "code",
   "execution_count": 28,
   "metadata": {},
   "outputs": [
    {
     "name": "stdout",
     "output_type": "stream",
     "text": [
      "<class 'pandas.core.frame.DataFrame'>\n",
      "Int64Index: 395 entries, 82 to 100\n",
      "Data columns (total 6 columns):\n",
      "G1           395 non-null int64\n",
      "G2           395 non-null int64\n",
      "G3           395 non-null int64\n",
      "studytime    395 non-null int64\n",
      "failures     395 non-null int64\n",
      "absences     395 non-null int64\n",
      "dtypes: int64(6)\n",
      "memory usage: 21.6 KB\n"
     ]
    }
   ],
   "source": [
    "data.info()"
   ]
  },
  {
   "cell_type": "code",
   "execution_count": 29,
   "metadata": {},
   "outputs": [],
   "source": [
    "# split data into train and test use 10% test size since data is small\n",
    "x_train, x_test, y_train, y_test = sklearn.model_selection.train_test_split(X, y, test_size=0.1)"
   ]
  },
  {
   "cell_type": "code",
   "execution_count": 37,
   "metadata": {},
   "outputs": [
    {
     "name": "stdout",
     "output_type": "stream",
     "text": [
      "Accuracy: 0.7264706411348542\n",
      "Accuracy: 0.7415667540849118\n",
      "Accuracy: 0.6843371023578805\n",
      "Accuracy: 0.7765521797619189\n",
      "Accuracy: 0.7116791602581078\n",
      "Accuracy: 0.8231668525915288\n",
      "Accuracy: 0.8158177741327465\n",
      "Accuracy: 0.7206297270887876\n",
      "Accuracy: 0.7162622109596775\n",
      "Accuracy: 0.7633079945243091\n",
      "Accuracy: 0.754828420437348\n",
      "Accuracy: 0.8523532060437101\n",
      "Accuracy: 0.7750192781867077\n",
      "Accuracy: 0.9124999298571608\n",
      "Accuracy: 0.7269253840150822\n",
      "Accuracy: 0.7292866692362576\n",
      "Accuracy: 0.9497816939228708\n",
      "Accuracy: 0.7923779228942723\n",
      "Accuracy: 0.8662264668159961\n",
      "Accuracy: 0.7769194603325879\n",
      "\n",
      "0.9497816939228708\n"
     ]
    }
   ],
   "source": [
    "# try running model several times and save best parameter output\n",
    "best = 0\n",
    "for _ in range(20):\n",
    "    x_train, x_test, y_train, y_test = sklearn.model_selection.train_test_split(X, y, test_size=0.1)\n",
    "\n",
    "    linear = linear_model.LinearRegression()\n",
    "\n",
    "    linear.fit(x_train, y_train)\n",
    "    acc = linear.score(x_test, y_test)\n",
    "    print(\"Accuracy: \" + str(acc))\n",
    "\n",
    "    if acc > best:\n",
    "        best = acc\n",
    "        \n",
    "        # save the best model using pickle\n",
    "        with open(\"studentgrades.pickle\", \"wb\") as f:\n",
    "            pickle.dump(linear, f)\n",
    "print()\n",
    "print(best)"
   ]
  },
  {
   "cell_type": "code",
   "execution_count": 38,
   "metadata": {},
   "outputs": [
    {
     "name": "stdout",
     "output_type": "stream",
     "text": [
      "-------------------------\n",
      "Coefficient: \n",
      " [ 0.14692145  0.98758587 -0.17616318 -0.26410656  0.03762277]\n",
      "Intercept: \n",
      " -1.5429797771078775\n",
      "-------------------------\n",
      "5.870081940771198 [7 7 3 0 0] 8\n",
      "13.011414003897828 [14 13  3  1 12] 13\n",
      "9.378091180758597 [ 9 10  2  0  2] 9\n",
      "11.307259121891947 [ 8 12  1  0  0] 12\n",
      "12.781613147946286 [12 13  2  0  2] 13\n",
      "13.380007839670482 [13 13  2  0 14] 14\n",
      "18.496583934656115 [19 18  3  0  0] 19\n",
      "7.0338309952677776 [7 8 2 0 0] 0\n",
      "8.56873300239579 [ 7 10  3  1  0] 10\n",
      "5.8444098425385125 [7 7 4 0 4] 6\n",
      "4.228703719804283 [ 5  5  2  0 12] 5\n",
      "10.587844043853515 [10 11  2  0  4] 9\n",
      "9.185660524616676 [10 10  2  1  0] 0\n",
      "-0.954799387001205 [7 0 1 1 0] 0\n",
      "8.717159566921532 [9 9 1 0 6] 10\n",
      "12.928534595476338 [13 13  2  0  2] 13\n",
      "9.571016436886989 [11 10  3  0  4] 11\n",
      "9.571016436886989 [11 10  3  0  4] 10\n",
      "16.197085787250803 [15 16  3  0  7] 15\n",
      "10.46125430668912 [10 11  4  0 10] 11\n",
      "12.651453776913895 [13 13  4  0  4] 12\n",
      "15.197549240268131 [15 15  2  0  2] 16\n",
      "9.012572378867468 [ 6 10  2  0  4] 10\n",
      "8.315259765193726 [9 9 2 0 0] 10\n",
      "18.537776338873623 [18 18  3  0  5] 19\n",
      "11.79402727308044 [12 12  2  0  2] 11\n",
      "12.301656118120787 [14 12  1  0  3] 12\n",
      "5.9476684112888325 [5 8 2 3 0] 7\n",
      "8.200897113092461 [ 9  9  2  2 11] 9\n",
      "4.074643004538238 [6 5 2 0 4] 6\n",
      "6.193166567931983 [8 7 2 0 0] 8\n",
      "16.185135115133978 [15 16  2  0  2] 16\n",
      "8.616241927989822 [9 9 2 0 8] 9\n",
      "8.34450149729441 [8 9 1 0 0] 8\n",
      "12.940485267593164 [13 13  3  0  7] 14\n",
      "5.442039283230647 [7 7 2 3 5] 7\n",
      "11.915276622377807 [13 12  3  0  6] 12\n",
      "16.251999617584172 [14 16  1  0  3] 16\n",
      "4.149888545237262 [6 5 2 0 6] 6\n",
      "12.794321766532441 [13 12  1  0 20] 12\n"
     ]
    }
   ],
   "source": [
    "# load the best model we saved\n",
    "pickle_in = open(\"studentgrades.pickle\", \"rb\")\n",
    "linear = pickle.load(pickle_in)\n",
    "\n",
    "# print the results for best coefficients and intercept\n",
    "print(\"-------------------------\")\n",
    "print('Coefficient: \\n', linear.coef_)\n",
    "print('Intercept: \\n', linear.intercept_)\n",
    "print(\"-------------------------\")\n",
    "\n",
    "# show student, predicted final grade and actual final grade\n",
    "predicted= linear.predict(x_test)\n",
    "for x in range(len(predicted)):\n",
    "    print(predicted[x], x_test[x], y_test[x])"
   ]
  },
  {
   "cell_type": "code",
   "execution_count": 40,
   "metadata": {},
   "outputs": [
    {
     "data": {
      "image/png": "[encoded data removed]",
      "text/plain": [
       "<Figure size 432x288 with 1 Axes>"
      ]
     },
     "metadata": {},
     "output_type": "display_data"
    }
   ],
   "source": [
    "# Drawing and plotting model\n",
    "plot = \"G1\"\n",
    "plt.scatter(data[plot], data[\"G3\"])\n",
    "plt.legend(loc=4)\n",
    "plt.xlabel(plot)\n",
    "plt.ylabel(\"Final Grade\")\n",
    "plt.show()"
   ]
  },
  {
   "cell_type": "code",
   "execution_count": 41,
   "metadata": {},
   "outputs": [
    {
     "data": {
      "image/png": "[encoded data removed]",
      "text/plain": [
       "<Figure size 432x288 with 1 Axes>"
      ]
     },
     "metadata": {},
     "output_type": "display_data"
    }
   ],
   "source": [
    "plot = \"G2\"\n",
    "plt.scatter(data[plot], data[\"G3\"])\n",
    "plt.legend(loc=4)\n",
    "plt.xlabel(plot)\n",
    "plt.ylabel(\"Final Grade\")\n",
    "plt.show()"
   ]
  },
  {
   "cell_type": "code",
   "execution_count": 43,
   "metadata": {},
   "outputs": [
    {
     "data": {
      "image/png": "[encoded data removed]",
      "text/plain": [
       "<Figure size 432x288 with 1 Axes>"
      ]
     },
     "metadata": {},
     "output_type": "display_data"
    }
   ],
   "source": [
    "plot = \"failures\"\n",
    "plt.scatter(data[plot], data[\"G3\"])\n",
    "plt.legend(loc=4)\n",
    "plt.xlabel(plot)\n",
    "plt.ylabel(\"Final Grade\")\n",
    "plt.show()"
   ]
  },
  {
   "cell_type": "code",
   "execution_count": 45,
   "metadata": {},
   "outputs": [
    {
     "data": {
      "image/png": "[encoded data removed]",
      "text/plain": [
       "<Figure size 432x288 with 1 Axes>"
      ]
     },
     "metadata": {},
     "output_type": "display_data"
    }
   ],
   "source": [
    "plot = \"absences\"\n",
    "plt.scatter(data[plot], data[\"G3\"])\n",
    "plt.legend(loc=4)\n",
    "plt.xlabel(plot)\n",
    "plt.ylabel(\"Final Grade\")\n",
    "plt.show()"
   ]
  },
  {
   "cell_type": "code",
   "execution_count": 46,
   "metadata": {},
   "outputs": [
    {
     "data": {
      "image/png": "[encoded data removed]",
      "text/plain": [
       "<Figure size 432x288 with 1 Axes>"
      ]
     },
     "metadata": {},
     "output_type": "display_data"
    }
   ],
   "source": [
    "plot = \"studytime\"\n",
    "plt.scatter(data[plot], data[\"G3\"])\n",
    "plt.legend(loc=4)\n",
    "plt.xlabel(plot)\n",
    "plt.ylabel(\"Final Grade\")\n",
    "plt.show()"
   ]
  },
  {
   "cell_type": "code",
   "execution_count": null,
   "metadata": {},
   "outputs": [],
   "source": []
  }
 ],
 "metadata": {
  "kernelspec": {
   "display_name": "Python 3",
   "language": "python",
   "name": "python3"
  },
  "language_info": {
   "codemirror_mode": {
    "name": "ipython",
    "version": 3
   },
   "file_extension": ".py",
   "mimetype": "text/x-python",
   "name": "python",
   "nbconvert_exporter": "python",
   "pygments_lexer": "ipython3",
   "version": "3.6.5"
  }
 },
 "nbformat": 4,
 "nbformat_minor": 2
}
